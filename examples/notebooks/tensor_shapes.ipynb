{
 "cells": [
  {
   "cell_type": "code",
   "execution_count": 29,
   "metadata": {},
   "outputs": [],
   "source": [
    "import torch\n",
    "import torch.nn as nn\n",
    "import torch.nn.functional as F"
   ]
  },
  {
   "cell_type": "code",
   "execution_count": 2,
   "metadata": {},
   "outputs": [],
   "source": [
    "x = torch.randn(3, 1000)"
   ]
  },
  {
   "cell_type": "code",
   "execution_count": 3,
   "metadata": {},
   "outputs": [
    {
     "data": {
      "text/plain": [
       "torch.Size([3, 1000])"
      ]
     },
     "execution_count": 3,
     "metadata": {},
     "output_type": "execute_result"
    }
   ],
   "source": [
    "x.shape"
   ]
  },
  {
   "cell_type": "code",
   "execution_count": 12,
   "metadata": {},
   "outputs": [],
   "source": [
    "num_workers = 2\n",
    "tile_len = x.shape[-1] // num_workers\n",
    "chunks = [x[..., tile_len * i : tile_len * (i+1)] for i in range(num_workers)]"
   ]
  },
  {
   "cell_type": "code",
   "execution_count": 13,
   "metadata": {},
   "outputs": [
    {
     "data": {
      "text/plain": [
       "torch.Size([3, 500])"
      ]
     },
     "execution_count": 13,
     "metadata": {},
     "output_type": "execute_result"
    }
   ],
   "source": [
    "chunks[0].shape"
   ]
  },
  {
   "cell_type": "code",
   "execution_count": 14,
   "metadata": {},
   "outputs": [],
   "source": [
    "x = torch.randn([8, 3, 500])"
   ]
  },
  {
   "cell_type": "code",
   "execution_count": 22,
   "metadata": {},
   "outputs": [],
   "source": [
    "padded_len = x.shape[2] + 2 * 1\n",
    "\n",
    "padded = torch.zeros(\n",
    "    (*x.shape[:2], padded_len),\n",
    ")\n",
    "\n",
    "padded[..., 1:-1] = x"
   ]
  },
  {
   "cell_type": "code",
   "execution_count": 23,
   "metadata": {},
   "outputs": [
    {
     "data": {
      "text/plain": [
       "tensor([[[ 0.0000,  0.2105, -0.4918,  ...,  1.1895, -0.1314,  0.0000],\n",
       "         [ 0.0000, -0.2385, -2.2530,  ..., -2.3758,  0.7819,  0.0000],\n",
       "         [ 0.0000,  0.7250, -2.4422,  ...,  0.4736,  0.6737,  0.0000]],\n",
       "\n",
       "        [[ 0.0000, -0.1844, -0.8138,  ...,  0.0213,  1.3697,  0.0000],\n",
       "         [ 0.0000,  0.9550,  0.0090,  ..., -0.3567,  0.7630,  0.0000],\n",
       "         [ 0.0000, -0.4042,  3.3303,  ...,  1.4719,  0.5546,  0.0000]],\n",
       "\n",
       "        [[ 0.0000,  0.2399,  0.4083,  ..., -0.1059,  0.4970,  0.0000],\n",
       "         [ 0.0000,  0.0399,  0.1287,  ..., -0.3137,  0.5051,  0.0000],\n",
       "         [ 0.0000,  1.2162,  1.1707,  ..., -2.1524, -0.6343,  0.0000]],\n",
       "\n",
       "        ...,\n",
       "\n",
       "        [[ 0.0000, -0.2984, -0.1673,  ...,  2.7389,  0.3441,  0.0000],\n",
       "         [ 0.0000,  0.0834,  1.4229,  ...,  0.0418,  1.7159,  0.0000],\n",
       "         [ 0.0000,  1.5694, -0.0438,  ...,  0.3852, -0.0114,  0.0000]],\n",
       "\n",
       "        [[ 0.0000, -0.2493,  0.3497,  ..., -0.7529, -0.8153,  0.0000],\n",
       "         [ 0.0000,  1.5826,  0.7458,  ...,  0.1617,  1.2053,  0.0000],\n",
       "         [ 0.0000, -0.4560, -2.1200,  ...,  0.8664,  0.7492,  0.0000]],\n",
       "\n",
       "        [[ 0.0000, -1.9200, -0.4727,  ...,  0.8627, -0.2646,  0.0000],\n",
       "         [ 0.0000,  0.5256,  0.1523,  ...,  2.3567,  0.4993,  0.0000],\n",
       "         [ 0.0000,  0.0611, -0.4513,  ...,  1.5387, -0.7790,  0.0000]]])"
      ]
     },
     "execution_count": 23,
     "metadata": {},
     "output_type": "execute_result"
    }
   ],
   "source": [
    "padded"
   ]
  },
  {
   "cell_type": "code",
   "execution_count": 25,
   "metadata": {},
   "outputs": [],
   "source": [
    "m = nn.ConstantPad1d(1, 0)"
   ]
  },
  {
   "cell_type": "code",
   "execution_count": 35,
   "metadata": {},
   "outputs": [
    {
     "data": {
      "text/plain": [
       "tensor([[[ 0.0000,  0.0000,  0.2105,  ..., -0.1314,  0.0000,  0.0000],\n",
       "         [ 0.0000,  0.0000, -0.2385,  ...,  0.7819,  0.0000,  0.0000],\n",
       "         [ 0.0000,  0.0000,  0.7250,  ...,  0.6737,  0.0000,  0.0000]],\n",
       "\n",
       "        [[ 0.0000,  0.0000, -0.1844,  ...,  1.3697,  0.0000,  0.0000],\n",
       "         [ 0.0000,  0.0000,  0.9550,  ...,  0.7630,  0.0000,  0.0000],\n",
       "         [ 0.0000,  0.0000, -0.4042,  ...,  0.5546,  0.0000,  0.0000]],\n",
       "\n",
       "        [[ 0.0000,  0.0000,  0.2399,  ...,  0.4970,  0.0000,  0.0000],\n",
       "         [ 0.0000,  0.0000,  0.0399,  ...,  0.5051,  0.0000,  0.0000],\n",
       "         [ 0.0000,  0.0000,  1.2162,  ..., -0.6343,  0.0000,  0.0000]],\n",
       "\n",
       "        ...,\n",
       "\n",
       "        [[ 0.0000,  0.0000, -0.2984,  ...,  0.3441,  0.0000,  0.0000],\n",
       "         [ 0.0000,  0.0000,  0.0834,  ...,  1.7159,  0.0000,  0.0000],\n",
       "         [ 0.0000,  0.0000,  1.5694,  ..., -0.0114,  0.0000,  0.0000]],\n",
       "\n",
       "        [[ 0.0000,  0.0000, -0.2493,  ..., -0.8153,  0.0000,  0.0000],\n",
       "         [ 0.0000,  0.0000,  1.5826,  ...,  1.2053,  0.0000,  0.0000],\n",
       "         [ 0.0000,  0.0000, -0.4560,  ...,  0.7492,  0.0000,  0.0000]],\n",
       "\n",
       "        [[ 0.0000,  0.0000, -1.9200,  ..., -0.2646,  0.0000,  0.0000],\n",
       "         [ 0.0000,  0.0000,  0.5256,  ...,  0.4993,  0.0000,  0.0000],\n",
       "         [ 0.0000,  0.0000,  0.0611,  ..., -0.7790,  0.0000,  0.0000]]])"
      ]
     },
     "execution_count": 35,
     "metadata": {},
     "output_type": "execute_result"
    }
   ],
   "source": [
    "F.pad(x, (2,2), 'constant', 0)"
   ]
  },
  {
   "cell_type": "code",
   "execution_count": 26,
   "metadata": {},
   "outputs": [],
   "source": [
    "padded2 = m(x)"
   ]
  },
  {
   "cell_type": "code",
   "execution_count": 28,
   "metadata": {},
   "outputs": [
    {
     "data": {
      "text/plain": [
       "tensor(True)"
      ]
     },
     "execution_count": 28,
     "metadata": {},
     "output_type": "execute_result"
    }
   ],
   "source": [
    "(padded2 == padded).all()"
   ]
  },
  {
   "cell_type": "code",
   "execution_count": 15,
   "metadata": {},
   "outputs": [],
   "source": [
    "zeros = torch.zeros_like(x)"
   ]
  },
  {
   "cell_type": "code",
   "execution_count": 19,
   "metadata": {},
   "outputs": [
    {
     "ename": "IndexError",
     "evalue": "index 500 is out of bounds for dimension 1 with size 500",
     "output_type": "error",
     "traceback": [
      "\u001b[0;31m---------------------------------------------------------------------------\u001b[0m",
      "\u001b[0;31mIndexError\u001b[0m                                Traceback (most recent call last)",
      "\u001b[0;32m<ipython-input-19-badad532797d>\u001b[0m in \u001b[0;36m<module>\u001b[0;34m\u001b[0m\n\u001b[0;32m----> 1\u001b[0;31m \u001b[0mzeros\u001b[0m\u001b[0;34m[\u001b[0m\u001b[0;34m...\u001b[0m\u001b[0;34m,\u001b[0m \u001b[0;36m500\u001b[0m \u001b[0;34m]\u001b[0m\u001b[0;34m\u001b[0m\u001b[0;34m\u001b[0m\u001b[0m\n\u001b[0m",
      "\u001b[0;31mIndexError\u001b[0m: index 500 is out of bounds for dimension 1 with size 500"
     ]
    }
   ],
   "source": [
    "zeros[..., ]"
   ]
  },
  {
   "cell_type": "code",
   "execution_count": 36,
   "metadata": {},
   "outputs": [],
   "source": [
    "workers =[0,1]"
   ]
  },
  {
   "cell_type": "code",
   "execution_count": 37,
   "metadata": {},
   "outputs": [],
   "source": [
    "rank = 0"
   ]
  },
  {
   "cell_type": "code",
   "execution_count": 41,
   "metadata": {},
   "outputs": [],
   "source": [
    "left_rank = 0"
   ]
  },
  {
   "cell_type": "code",
   "execution_count": 43,
   "metadata": {},
   "outputs": [
    {
     "name": "stdout",
     "output_type": "stream",
     "text": [
      "hi\n"
     ]
    }
   ],
   "source": [
    "if left_rank is not None:\n",
    "    print('hi')"
   ]
  },
  {
   "cell_type": "code",
   "execution_count": null,
   "metadata": {},
   "outputs": [],
   "source": []
  }
 ],
 "metadata": {
  "kernelspec": {
   "display_name": "Python 3",
   "language": "python",
   "name": "python3"
  },
  "language_info": {
   "codemirror_mode": {
    "name": "ipython",
    "version": 3
   },
   "file_extension": ".py",
   "mimetype": "text/x-python",
   "name": "python",
   "nbconvert_exporter": "python",
   "pygments_lexer": "ipython3",
   "version": "3.7.3"
  }
 },
 "nbformat": 4,
 "nbformat_minor": 2
}
