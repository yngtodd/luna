{
 "cells": [
  {
   "cell_type": "code",
   "execution_count": 1,
   "metadata": {},
   "outputs": [],
   "source": [
    "import torch\n",
    "import torch.nn as nn\n",
    "import torch.nn.functional as F"
   ]
  },
  {
   "cell_type": "code",
   "execution_count": 2,
   "metadata": {},
   "outputs": [],
   "source": [
    "x = torch.randn(3, 1000)"
   ]
  },
  {
   "cell_type": "code",
   "execution_count": 3,
   "metadata": {},
   "outputs": [
    {
     "data": {
      "text/plain": [
       "torch.Size([3, 1000])"
      ]
     },
     "execution_count": 3,
     "metadata": {},
     "output_type": "execute_result"
    }
   ],
   "source": [
    "x.shape"
   ]
  },
  {
   "cell_type": "code",
   "execution_count": 4,
   "metadata": {},
   "outputs": [],
   "source": [
    "num_workers = 2\n",
    "tile_len = x.shape[-1] // num_workers\n",
    "chunks = [x[..., tile_len * i : tile_len * (i+1)] for i in range(num_workers)]"
   ]
  },
  {
   "cell_type": "code",
   "execution_count": 5,
   "metadata": {},
   "outputs": [
    {
     "data": {
      "text/plain": [
       "torch.Size([3, 500])"
      ]
     },
     "execution_count": 5,
     "metadata": {},
     "output_type": "execute_result"
    }
   ],
   "source": [
    "chunks[0].shape"
   ]
  },
  {
   "cell_type": "code",
   "execution_count": 6,
   "metadata": {},
   "outputs": [],
   "source": [
    "x = torch.randn([8, 3, 500])"
   ]
  },
  {
   "cell_type": "code",
   "execution_count": 14,
   "metadata": {},
   "outputs": [],
   "source": [
    "padded_len = x.shape[2] + 2 * 1\n",
    "\n",
    "padded = torch.zeros(\n",
    "    (*x.shape[:2], padded_len),\n",
    ")\n",
    "\n",
    "padded[..., 1:-1] = x"
   ]
  },
  {
   "cell_type": "code",
   "execution_count": 15,
   "metadata": {},
   "outputs": [
    {
     "data": {
      "text/plain": [
       "tensor([[[ 0.0000e+00,  1.2554e+00, -1.0939e+00,  ..., -1.7128e+00,\n",
       "           4.3877e-01,  0.0000e+00],\n",
       "         [ 0.0000e+00,  2.2410e-03, -5.0398e-01,  ..., -2.1291e-01,\n",
       "          -7.7456e-01,  0.0000e+00],\n",
       "         [ 0.0000e+00,  1.0085e+00,  3.3483e+00,  ..., -2.1463e+00,\n",
       "          -1.9237e+00,  0.0000e+00]],\n",
       "\n",
       "        [[ 0.0000e+00, -1.7564e+00,  1.2242e+00,  ..., -8.8842e-01,\n",
       "           7.3152e-01,  0.0000e+00],\n",
       "         [ 0.0000e+00,  5.5296e-01, -1.0404e+00,  ..., -4.1377e-01,\n",
       "           1.5574e-01,  0.0000e+00],\n",
       "         [ 0.0000e+00, -1.0442e+00, -2.1978e+00,  ...,  1.1094e+00,\n",
       "          -1.1344e+00,  0.0000e+00]],\n",
       "\n",
       "        [[ 0.0000e+00,  1.7748e-01, -1.8942e-01,  ...,  2.9279e-01,\n",
       "           1.1997e+00,  0.0000e+00],\n",
       "         [ 0.0000e+00, -1.2365e+00, -3.4066e-01,  ..., -2.1700e-01,\n",
       "          -1.0437e-01,  0.0000e+00],\n",
       "         [ 0.0000e+00,  1.1900e+00,  1.1311e+00,  ...,  7.3004e-02,\n",
       "          -2.5593e-01,  0.0000e+00]],\n",
       "\n",
       "        ...,\n",
       "\n",
       "        [[ 0.0000e+00,  1.6645e-01,  1.7926e+00,  ..., -6.2728e-01,\n",
       "           1.8983e-01,  0.0000e+00],\n",
       "         [ 0.0000e+00,  4.3460e-01,  5.6312e-01,  ...,  1.0791e+00,\n",
       "           2.0605e-01,  0.0000e+00],\n",
       "         [ 0.0000e+00,  1.3289e+00,  1.2430e+00,  ..., -1.0444e+00,\n",
       "           1.3292e+00,  0.0000e+00]],\n",
       "\n",
       "        [[ 0.0000e+00,  3.6267e-01,  8.8885e-01,  ...,  1.3938e-01,\n",
       "          -6.6691e-01,  0.0000e+00],\n",
       "         [ 0.0000e+00, -2.1343e+00,  9.8642e-02,  ..., -1.5881e+00,\n",
       "          -1.0347e-02,  0.0000e+00],\n",
       "         [ 0.0000e+00, -3.1337e-01,  1.7608e+00,  ...,  9.0279e-01,\n",
       "           1.3777e-01,  0.0000e+00]],\n",
       "\n",
       "        [[ 0.0000e+00, -4.7979e-01,  6.0787e-01,  ...,  9.8073e-01,\n",
       "          -2.0962e-01,  0.0000e+00],\n",
       "         [ 0.0000e+00, -8.9677e-01,  3.9428e-01,  ..., -2.0145e+00,\n",
       "          -1.2586e+00,  0.0000e+00],\n",
       "         [ 0.0000e+00,  3.9964e-01, -1.0509e+00,  ...,  2.0807e-01,\n",
       "           3.1418e-01,  0.0000e+00]]])"
      ]
     },
     "execution_count": 15,
     "metadata": {},
     "output_type": "execute_result"
    }
   ],
   "source": [
    "padded"
   ]
  },
  {
   "cell_type": "code",
   "execution_count": 9,
   "metadata": {},
   "outputs": [],
   "source": [
    "m = nn.ConstantPad1d(1, 0)"
   ]
  },
  {
   "cell_type": "code",
   "execution_count": 18,
   "metadata": {},
   "outputs": [],
   "source": [
    "#F.pad(x, (2,2), 'constant', 0)"
   ]
  },
  {
   "cell_type": "code",
   "execution_count": 17,
   "metadata": {},
   "outputs": [
    {
     "data": {
      "text/plain": [
       "tensor([[[ 0.0000e+00,  1.2554e+00, -1.0939e+00,  ..., -1.7128e+00,\n",
       "           4.3877e-01,  0.0000e+00],\n",
       "         [ 0.0000e+00,  2.2410e-03, -5.0398e-01,  ..., -2.1291e-01,\n",
       "          -7.7456e-01,  0.0000e+00],\n",
       "         [ 0.0000e+00,  1.0085e+00,  3.3483e+00,  ..., -2.1463e+00,\n",
       "          -1.9237e+00,  0.0000e+00]],\n",
       "\n",
       "        [[ 0.0000e+00, -1.7564e+00,  1.2242e+00,  ..., -8.8842e-01,\n",
       "           7.3152e-01,  0.0000e+00],\n",
       "         [ 0.0000e+00,  5.5296e-01, -1.0404e+00,  ..., -4.1377e-01,\n",
       "           1.5574e-01,  0.0000e+00],\n",
       "         [ 0.0000e+00, -1.0442e+00, -2.1978e+00,  ...,  1.1094e+00,\n",
       "          -1.1344e+00,  0.0000e+00]],\n",
       "\n",
       "        [[ 0.0000e+00,  1.7748e-01, -1.8942e-01,  ...,  2.9279e-01,\n",
       "           1.1997e+00,  0.0000e+00],\n",
       "         [ 0.0000e+00, -1.2365e+00, -3.4066e-01,  ..., -2.1700e-01,\n",
       "          -1.0437e-01,  0.0000e+00],\n",
       "         [ 0.0000e+00,  1.1900e+00,  1.1311e+00,  ...,  7.3004e-02,\n",
       "          -2.5593e-01,  0.0000e+00]],\n",
       "\n",
       "        ...,\n",
       "\n",
       "        [[ 0.0000e+00,  1.6645e-01,  1.7926e+00,  ..., -6.2728e-01,\n",
       "           1.8983e-01,  0.0000e+00],\n",
       "         [ 0.0000e+00,  4.3460e-01,  5.6312e-01,  ...,  1.0791e+00,\n",
       "           2.0605e-01,  0.0000e+00],\n",
       "         [ 0.0000e+00,  1.3289e+00,  1.2430e+00,  ..., -1.0444e+00,\n",
       "           1.3292e+00,  0.0000e+00]],\n",
       "\n",
       "        [[ 0.0000e+00,  3.6267e-01,  8.8885e-01,  ...,  1.3938e-01,\n",
       "          -6.6691e-01,  0.0000e+00],\n",
       "         [ 0.0000e+00, -2.1343e+00,  9.8642e-02,  ..., -1.5881e+00,\n",
       "          -1.0347e-02,  0.0000e+00],\n",
       "         [ 0.0000e+00, -3.1337e-01,  1.7608e+00,  ...,  9.0279e-01,\n",
       "           1.3777e-01,  0.0000e+00]],\n",
       "\n",
       "        [[ 0.0000e+00, -4.7979e-01,  6.0787e-01,  ...,  9.8073e-01,\n",
       "          -2.0962e-01,  0.0000e+00],\n",
       "         [ 0.0000e+00, -8.9677e-01,  3.9428e-01,  ..., -2.0145e+00,\n",
       "          -1.2586e+00,  0.0000e+00],\n",
       "         [ 0.0000e+00,  3.9964e-01, -1.0509e+00,  ...,  2.0807e-01,\n",
       "           3.1418e-01,  0.0000e+00]]])"
      ]
     },
     "execution_count": 17,
     "metadata": {},
     "output_type": "execute_result"
    }
   ],
   "source": [
    "padded2"
   ]
  },
  {
   "cell_type": "code",
   "execution_count": 16,
   "metadata": {},
   "outputs": [],
   "source": [
    "padded2 = m(x)"
   ]
  },
  {
   "cell_type": "code",
   "execution_count": 12,
   "metadata": {},
   "outputs": [
    {
     "data": {
      "text/plain": [
       "tensor(True)"
      ]
     },
     "execution_count": 12,
     "metadata": {},
     "output_type": "execute_result"
    }
   ],
   "source": [
    "(padded2 == padded).all()"
   ]
  },
  {
   "cell_type": "code",
   "execution_count": 15,
   "metadata": {},
   "outputs": [],
   "source": [
    "zeros = torch.zeros_like(x)"
   ]
  },
  {
   "cell_type": "code",
   "execution_count": 19,
   "metadata": {},
   "outputs": [
    {
     "ename": "IndexError",
     "evalue": "index 500 is out of bounds for dimension 1 with size 500",
     "output_type": "error",
     "traceback": [
      "\u001b[0;31m---------------------------------------------------------------------------\u001b[0m",
      "\u001b[0;31mIndexError\u001b[0m                                Traceback (most recent call last)",
      "\u001b[0;32m<ipython-input-19-badad532797d>\u001b[0m in \u001b[0;36m<module>\u001b[0;34m\u001b[0m\n\u001b[0;32m----> 1\u001b[0;31m \u001b[0mzeros\u001b[0m\u001b[0;34m[\u001b[0m\u001b[0;34m...\u001b[0m\u001b[0;34m,\u001b[0m \u001b[0;36m500\u001b[0m \u001b[0;34m]\u001b[0m\u001b[0;34m\u001b[0m\u001b[0;34m\u001b[0m\u001b[0m\n\u001b[0m",
      "\u001b[0;31mIndexError\u001b[0m: index 500 is out of bounds for dimension 1 with size 500"
     ]
    }
   ],
   "source": [
    "zeros[..., ]"
   ]
  },
  {
   "cell_type": "code",
   "execution_count": 36,
   "metadata": {},
   "outputs": [],
   "source": [
    "workers =[0,1]"
   ]
  },
  {
   "cell_type": "code",
   "execution_count": 37,
   "metadata": {},
   "outputs": [],
   "source": [
    "rank = 0"
   ]
  },
  {
   "cell_type": "code",
   "execution_count": 41,
   "metadata": {},
   "outputs": [],
   "source": [
    "left_rank = 0"
   ]
  },
  {
   "cell_type": "code",
   "execution_count": 43,
   "metadata": {},
   "outputs": [
    {
     "name": "stdout",
     "output_type": "stream",
     "text": [
      "hi\n"
     ]
    }
   ],
   "source": [
    "if left_rank is not None:\n",
    "    print('hi')"
   ]
  },
  {
   "cell_type": "code",
   "execution_count": null,
   "metadata": {},
   "outputs": [],
   "source": []
  }
 ],
 "metadata": {
  "kernelspec": {
   "display_name": "Python 3",
   "language": "python",
   "name": "python3"
  },
  "language_info": {
   "codemirror_mode": {
    "name": "ipython",
    "version": 3
   },
   "file_extension": ".py",
   "mimetype": "text/x-python",
   "name": "python",
   "nbconvert_exporter": "python",
   "pygments_lexer": "ipython3",
   "version": "3.7.3"
  }
 },
 "nbformat": 4,
 "nbformat_minor": 2
}
